{
 "cells": [
  {
   "cell_type": "code",
   "execution_count": 3,
   "metadata": {},
   "outputs": [],
   "source": [
    "#explicación de if/elif/else\n",
    "\n",
    "# En python ejecutamos mucho comandos distintos para satisfacer un objetivo especifico o varios.\n",
    "# Vamos a ver un comando basico que funciona muy bien para resolver problemas que parecen complejos. \n",
    "# Esta es la forma de tomar decisiones que mas utilizan los usuarios del lenguaje(cuando queremos solo un outcome)\n",
    "\n",
    "#Hablamos de if, elif y else:\n",
    "#comenzemos...\n",
    "\n",
    "#----------------------------------------------------------------------------------------------------------------#\n",
    "\n",
    "# if #\n",
    "\n",
    "# Con if el programa evalua la condicion y da un resultado de verdadero o falso unicamente.\n",
    "# Podemos agregar un print con un mensaje de error o un resultado que ocurre cuando nuestra condicion se cumple.\n",
    "# Explicado de forma breve podriamos decir:\n",
    "\n",
    "# if Xcosa == a Xnumero (por ejemplo)\n",
    "#    print=(Xvalor o Xvariable) -> siempre ten muy en cuenta la indentación, asi el sistema funcionara siempre.\n",
    "\n",
    "# Adjunto en la carpeta un diagrama de la condicion if para que vean de forma visual la condición.\n",
    "\n",
    "#----------------------------------------------------------------------------------------------------------------#\n",
    "\n",
    "# elif #\n",
    "\n",
    "# Con elif le damos un al sistema la oportunidad de darnos un resultado alterno a if si es que este no se cumple.\n",
    "# Elif funcionaria como un \"entonces\"\n",
    "# Esta condición se puede repetir por muchas lineas del codigo si quisieramos pero OJO a la indentación.\n",
    "# Explicado de forma breve podriamos decir:\n",
    "\n",
    "# if Xcosa == Xnumero\n",
    "#    print=(Xvalor o Xvariable)  --------------> Ahora debes tener aun MAS cuidado con la indentación!\n",
    "# elif Xcosa == otroXnumero\n",
    "#    print=(otroXvalor u otraXvariable)\n",
    "\n",
    "# Adjunto en la carpeta un diagrama de la condicion elif para que vean de forma visual la condición.\n",
    "\n",
    "#----------------------------------------------------------------------------------------------------------------#\n",
    "\n",
    "# else #\n",
    "\n",
    "# Con else estamos dando la condición final.\n",
    "# Si nada de lo que escribimos funciona recurrimos al else para que el sistema nos diga que nada funcionó.\n",
    "# Piensa el \"else\" como un ultimo recurso\n",
    "# Explicado de forma breve podriamos decir:\n",
    "\n",
    "# if Xcosa == Xnumero\n",
    "#    print=(Xvalor o Xvariable) \n",
    "# elif Xcosa == otroXnumero\n",
    "#    print=(otroXvalor u otraXvariable)\n",
    "# else:\n",
    "#    print(\"me rindo\")\n",
    "\n",
    "# Adjunto en la carpeta un diagrama de las 3 condiciones juntas para que vean de forma visual todo lo explicado.\n",
    "\n",
    "#----------------------------------------------------------------------------------------------------------------#\n",
    "\n",
    "# Listo!"
   ]
  },
  {
   "cell_type": "code",
   "execution_count": 4,
   "metadata": {},
   "outputs": [
    {
     "data": {
      "text/plain": [
       "'\\ng\\n\\n'"
      ]
     },
     "execution_count": 4,
     "metadata": {},
     "output_type": "execute_result"
    }
   ],
   "source": []
  },
  {
   "cell_type": "code",
   "execution_count": null,
   "metadata": {},
   "outputs": [],
   "source": []
  }
 ],
 "metadata": {
  "kernelspec": {
   "display_name": "Python 3",
   "language": "python",
   "name": "python3"
  },
  "language_info": {
   "codemirror_mode": {
    "name": "ipython",
    "version": 3
   },
   "file_extension": ".py",
   "mimetype": "text/x-python",
   "name": "python",
   "nbconvert_exporter": "python",
   "pygments_lexer": "ipython3",
   "version": "3.7.4"
  }
 },
 "nbformat": 4,
 "nbformat_minor": 2
}
